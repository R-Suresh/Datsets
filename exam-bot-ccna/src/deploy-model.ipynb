{
 "cells": [
  {
   "cell_type": "code",
   "execution_count": null,
   "metadata": {},
   "outputs": [],
   "source": [
    "# -*- coding: utf-8 -*-\n",
    "from __future__ import division, print_function\n",
    "from keras.models import model_from_json\n",
    "from keras.preprocessing.sequence import pad_sequences\n",
    "import matplotlib.pyplot as plt\n",
    "import nltk\n",
    "import numpy as np\n",
    "import os\n",
    "\n",
    "import kaggle"
   ]
  },
  {
   "cell_type": "code",
   "execution_count": null,
   "metadata": {},
   "outputs": [],
   "source": [
    "MODEL_DIR = \"../data/models\"\n",
    "#MODEL_ARCH = \"qa-lstm.json\"\n",
    "#MODEL_WEIGHTS = \"qa-lstm-model-best.hdf5\"\n",
    "MODEL_ARCH = \"qa-blstm-fem-attn.json\"\n",
    "MODEL_WEIGHTS = \"qa-blstm-fem-attn-final.hdf5\"\n",
    "\n",
    "DATA_DIR = \"../data/comp_data\"\n",
    "QA_TRAIN_FILE = \"Middle-NDMC-Train.csv\"\n",
    "QA_TEST_FILE = \"Middle-NDMC-Test.csv\"\n",
    "\n",
    "WORD2VEC_BIN = \"GoogleNews-vectors-negative300.bin.gz\"\n",
    "WORD2VEC_EMBED_SIZE = 300\n",
    "\n",
    "LSTM_SEQLEN = 196 # from original model\n",
    "NUM_CHOICES = 4   # number of choices for multiple choice\n",
    "\n",
    "#### Load up the vectorizer\n",
    "qapairs = kaggle.get_question_answer_pairs(\n",
    "    os.path.join(DATA_DIR, QA_TRAIN_FILE))\n",
    "tqapairs = kaggle.get_question_answer_pairs(\n",
    "    os.path.join(DATA_DIR, QA_TEST_FILE), is_test=True)\n",
    "\n",
    "word2idx = kaggle.build_vocab([], qapairs, tqapairs)\n",
    "vocab_size = len(word2idx) + 1 # include mask character 0"
   ]
  },
  {
   "cell_type": "code",
   "execution_count": null,
   "metadata": {},
   "outputs": [],
   "source": [
    "#### Load up the model\n",
    "with open(os.path.join(MODEL_DIR, MODEL_ARCH), \"rb\") as fjson:\n",
    "    json = fjson.read().decode('utf8')\n",
    "model = model_from_json(json)\n",
    "model.load_weights(os.path.join(MODEL_DIR, MODEL_WEIGHTS))"
   ]
  },
  {
   "cell_type": "code",
   "execution_count": null,
   "metadata": {},
   "outputs": [],
   "source": [
    "#### read in the data ####\n",
    "#### correct_answer = \"B\"\n",
    "question = \"Which is a distinction between an epidemic and a pandemic?\"\n",
    "answers = [\"the symptoms of the disease\",\n",
    "           \"the geographical area affected\",\n",
    "           \"the species of organisms infected\",\n",
    "           \"the season in which the disease spreads\"]\n",
    "qwords = nltk.word_tokenize(question)\n",
    "awords_list = [nltk.word_tokenize(answer) for answer in answers]\n",
    "Xq, Xa = [], []"
   ]
  },
  {
   "cell_type": "code",
   "execution_count": null,
   "metadata": {},
   "outputs": [],
   "source": [
    "for idx, awords in enumerate(awords_list):\n",
    "    Xq.append([word2idx[qword] for qword in qwords])\n",
    "    Xa.append([word2idx[aword] for aword in awords])\n",
    "Xq = pad_sequences(Xq, maxlen=LSTM_SEQLEN)\n",
    "Xa = pad_sequences(Xa, maxlen=LSTM_SEQLEN)"
   ]
  },
  {
   "cell_type": "code",
   "execution_count": null,
   "metadata": {},
   "outputs": [],
   "source": [
    "Xq = pad_sequences(Xq, maxlen=LSTM_SEQLEN)\n",
    "Xa = pad_sequences(Xa, maxlen=LSTM_SEQLEN)\n",
    "\n",
    "#model.compile(optimizer=\"adam\", loss=\"categorical_crossentropy\",\n",
    "#              metrics=[\"accuracy\"])\n",
    "model.compile(optimizer=\"rmsprop\", loss=\"mse\", metrics=[\"accuracy\"])\n",
    "Y = model.predict([Xq, Xa])\n",
    "\n",
    "# calculate the softmax\n",
    "probs = np.exp(1.0 - (Y[:, 1] - Y[:, 0]))\n",
    "probs = probs / np.sum(probs)\n",
    "\n",
    "print(probs)\n",
    "\n",
    "plt.bar(np.arange(len(probs)), probs)\n",
    "plt.xticks(np.arange(len(probs))+0.35, [\"A\", \"B\", \"C\", \"D\"])\n",
    "plt.xlabel(\"choice (x)\")\n",
    "plt.ylabel(\"probability p(x)\")\n",
    "plt.show()\n",
    "\n"
   ]
  }
 ],
 "metadata": {
  "kernelspec": {
   "display_name": "Python [conda env:tensorflow]",
   "language": "python",
   "name": "conda-env-tensorflow-py"
  },
  "language_info": {
   "codemirror_mode": {
    "name": "ipython",
    "version": 3
   },
   "file_extension": ".py",
   "mimetype": "text/x-python",
   "name": "python",
   "nbconvert_exporter": "python",
   "pygments_lexer": "ipython3",
   "version": "3.5.5"
  }
 },
 "nbformat": 4,
 "nbformat_minor": 2
}
